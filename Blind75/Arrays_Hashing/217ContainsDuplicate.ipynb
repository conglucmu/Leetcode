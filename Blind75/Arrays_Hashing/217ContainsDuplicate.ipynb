{
 "cells": [
  {
   "cell_type": "code",
   "execution_count": 4,
   "id": "9617b959-a4b8-451b-b790-0cec7a30b098",
   "metadata": {},
   "outputs": [
    {
     "name": "stdout",
     "output_type": "stream",
     "text": [
      "False\n",
      "True\n"
     ]
    }
   ],
   "source": [
    "def contain_duplicate(nums):\n",
    "    '''\n",
    "    input: a list of integers\n",
    "    output: True if it contains duplicates\n",
    "\n",
    "    '''\n",
    "    nums_set = set(nums)\n",
    "    return len(nums_set) != len(nums)\n",
    "\n",
    "print(contain_duplicate([1, 2, 3, 4]))\n",
    "print(contain_duplicate([1, 2, 3, 4, 3]))"
   ]
  }
 ],
 "metadata": {
  "kernelspec": {
   "display_name": "Python 3 (ipykernel)",
   "language": "python",
   "name": "python3"
  },
  "language_info": {
   "codemirror_mode": {
    "name": "ipython",
    "version": 3
   },
   "file_extension": ".py",
   "mimetype": "text/x-python",
   "name": "python",
   "nbconvert_exporter": "python",
   "pygments_lexer": "ipython3",
   "version": "3.11.8"
  }
 },
 "nbformat": 4,
 "nbformat_minor": 5
}
