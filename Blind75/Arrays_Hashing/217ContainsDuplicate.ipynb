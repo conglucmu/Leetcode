{
 "cells": [
  {
   "cell_type": "code",
   "execution_count": 4,
   "id": "9617b959-a4b8-451b-b790-0cec7a30b098",
   "metadata": {},
   "outputs": [
    {
     "name": "stdout",
     "output_type": "stream",
     "text": [
      "False\n",
      "True\n"
     ]
    }
   ],
   "source": [
    "# Time O(N)   Space O(N)\n",
    "def contain_duplicate(nums):\n",
    "    '''\n",
    "    input: a list of integers\n",
    "    output: True if it contains duplicates\n",
    "\n",
    "    '''\n",
    "    nums_set = set(nums)\n",
    "    return len(nums_set) != len(nums)\n",
    "\n",
    "print(contain_duplicate([1, 2, 3, 4]))\n",
    "print(contain_duplicate([1, 2, 3, 4, 3]))"
   ]
  },
  {
   "cell_type": "code",
   "execution_count": 5,
   "id": "b2a93dda-fdd2-4089-9868-c113821d85dc",
   "metadata": {},
   "outputs": [],
   "source": [
    "# Solution 2, sorted first, then compare neighbors, Time O(N* LogN), Space O(1)"
   ]
  },
  {
   "cell_type": "code",
   "execution_count": 6,
   "id": "1570ab91-2b23-443c-81a6-3a89206a8ab4",
   "metadata": {},
   "outputs": [
    {
     "name": "stdout",
     "output_type": "stream",
     "text": [
      "False\n",
      "True\n"
     ]
    }
   ],
   "source": [
    "def contain_duplicate2(nums):\n",
    "    sorted_nums = sorted(nums)\n",
    "    for i in range(len(sorted_nums) - 1):\n",
    "        if sorted_nums[i] == sorted_nums[i+1]:\n",
    "            return True\n",
    "    return False \n",
    "print(contain_duplicate2([1, 2, 3, 4]))\n",
    "print(contain_duplicate2([1, 2, 3, 4, 3]))\n"
   ]
  }
 ],
 "metadata": {
  "kernelspec": {
   "display_name": "Python 3 (ipykernel)",
   "language": "python",
   "name": "python3"
  },
  "language_info": {
   "codemirror_mode": {
    "name": "ipython",
    "version": 3
   },
   "file_extension": ".py",
   "mimetype": "text/x-python",
   "name": "python",
   "nbconvert_exporter": "python",
   "pygments_lexer": "ipython3",
   "version": "3.12.0"
  }
 },
 "nbformat": 4,
 "nbformat_minor": 5
}
